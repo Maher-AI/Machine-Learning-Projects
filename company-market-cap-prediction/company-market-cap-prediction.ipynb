{
 "cells": [
  {
   "cell_type": "markdown",
   "metadata": {},
   "source": [
    " \n",
    "***\n",
    "\n",
    "## Company Market Cap Prediction  \n",
    "  \n",
    "Given *data about big companies*, let's try to predict the **market capitalization** of a given company.  \n",
    "  \n",
    "We will use a variety of regression models to make our predictions."
   ]
  },
  {
   "cell_type": "code",
   "execution_count": null,
   "metadata": {},
   "outputs": [],
   "source": [
    "Download link: https://www.kaggle.com/datasets/winston56/fortune-500-data-2021"
   ]
  },
  {
   "cell_type": "markdown",
   "metadata": {},
   "source": [
    "# Getting Started"
   ]
  },
  {
   "cell_type": "code",
   "execution_count": 1,
   "metadata": {
    "execution": {
     "iopub.execute_input": "2022-07-14T08:38:28.191764Z",
     "iopub.status.busy": "2022-07-14T08:38:28.191297Z",
     "iopub.status.idle": "2022-07-14T08:38:29.413833Z",
     "shell.execute_reply": "2022-07-14T08:38:29.412827Z",
     "shell.execute_reply.started": "2022-07-14T08:38:28.191665Z"
    }
   },
   "outputs": [],
   "source": [
    "import numpy as np\n",
    "import pandas as pd\n",
    "\n",
    "from sklearn.model_selection import train_test_split\n",
    "from sklearn.preprocessing import StandardScaler\n",
    "\n",
    "from sklearn.linear_model import LinearRegression, Ridge, Lass\n",
    "from sklearn.tree import DecisionTreeRegressor\n",
    "from sklearn.neural_network import MLPRegressor\n",
    "from sklearn.ensemble import RandomForestRegressor, GradientBoostingRegressor\n",
    "\n",
    "import warnings\n",
    "warnings.filterwarnings(action='ignore')"
   ]
  },
  {
   "cell_type": "code",
   "execution_count": 2,
   "metadata": {
    "execution": {
     "iopub.execute_input": "2022-07-14T09:02:27.553735Z",
     "iopub.status.busy": "2022-07-14T09:02:27.553321Z",
     "iopub.status.idle": "2022-07-14T09:02:27.586617Z",
     "shell.execute_reply": "2022-07-14T09:02:27.585714Z",
     "shell.execute_reply.started": "2022-07-14T09:02:27.553701Z"
    }
   },
   "outputs": [],
   "source": [
    "data = pd.read_csv('../input/fortune-500-data-2021/Fortune_1000.csv')\n",
    "# df = pd.read_csv(\"../input/fortune-500-data-2021/Fortune_1000.csv\")"
   ]
  },
  {
   "cell_type": "code",
   "execution_count": 3,
   "metadata": {
    "execution": {
     "iopub.execute_input": "2022-07-14T09:02:37.292178Z",
     "iopub.status.busy": "2022-07-14T09:02:37.291819Z",
     "iopub.status.idle": "2022-07-14T09:02:37.343666Z",
     "shell.execute_reply": "2022-07-14T09:02:37.342689Z",
     "shell.execute_reply.started": "2022-07-14T09:02:37.292148Z"
    }
   },
   "outputs": [],
   "source": [
    "data\n"
   ]
  },
  {
   "cell_type": "code",
   "execution_count": 4,
   "metadata": {
    "execution": {
     "iopub.execute_input": "2022-07-14T09:02:40.618900Z",
     "iopub.status.busy": "2022-07-14T09:02:40.618530Z",
     "iopub.status.idle": "2022-07-14T09:02:40.640510Z",
     "shell.execute_reply": "2022-07-14T09:02:40.639443Z",
     "shell.execute_reply.started": "2022-07-14T09:02:40.618867Z"
    }
   },
   "outputs": [],
   "source": [
    "data.info()  "
   ]
  },
  {
   "cell_type": "markdown",
   "metadata": {},
   "source": [
    "# Preprocessing"
   ]
  },
  {
   "cell_type": "code",
   "execution_count": 5,
   "metadata": {
    "execution": {
     "iopub.execute_input": "2022-07-14T09:03:07.669258Z",
     "iopub.status.busy": "2022-07-14T09:03:07.668867Z",
     "iopub.status.idle": "2022-07-14T09:03:07.681383Z",
     "shell.execute_reply": "2022-07-14T09:03:07.680029Z",
     "shell.execute_reply.started": "2022-07-14T09:03:07.669224Z"
    }
   },
   "outputs": [],
   "source": [
    "# data['profit'].isna().sum()\n",
    "data.isna().sum()"
   ]
  },
  {
   "cell_type": "code",
   "execution_count": 6,
   "metadata": {
    "execution": {
     "iopub.execute_input": "2022-07-14T09:03:12.298340Z",
     "iopub.status.busy": "2022-07-14T09:03:12.297995Z",
     "iopub.status.idle": "2022-07-14T09:03:12.303556Z",
     "shell.execute_reply": "2022-07-14T09:03:12.302405Z",
     "shell.execute_reply.started": "2022-07-14T09:03:12.298311Z"
    }
   },
   "outputs": [],
   "source": [
    "# df = pd.get_dummies(data['sector'],prefix= 'sector')\n",
    "# df"
   ]
  },
  {
   "cell_type": "code",
   "execution_count": 16,
   "metadata": {
    "execution": {
     "iopub.execute_input": "2022-07-14T09:05:46.473836Z",
     "iopub.status.busy": "2022-07-14T09:05:46.473240Z",
     "iopub.status.idle": "2022-07-14T09:05:46.484902Z",
     "shell.execute_reply": "2022-07-14T09:05:46.483888Z",
     "shell.execute_reply.started": "2022-07-14T09:05:46.473785Z"
    }
   },
   "outputs": [],
   "source": [
    "def preprocess_inputs(df):\n",
    "    df = df.copy()\n",
    "    \n",
    "    # Drop unused columns\n",
    "    df = df.drop(['rank', 'rank_change', 'company', 'newcomer', 'prev_rank', 'CEO', 'Website', 'Ticker'], axis=1)\n",
    "    \n",
    "    # Encode missing values\n",
    "    df['Market Cap'] = df['Market Cap'].replace('-', np.NaN).astype(np.float)\n",
    "    \n",
    "    # Drop missing target rows\n",
    "    missing_target_rows = df[df['Market Cap'].isna()].index\n",
    "    df = df.drop(missing_target_rows, axis=0).reset_index(drop=True)\n",
    "    \n",
    "    # Fill remaining missing values\n",
    "    df['profit'] = df['profit'].fillna(df['profit'].mean())\n",
    "    \n",
    "    # Binary encoding\n",
    "    for column in ['ceo_founder', 'ceo_woman', 'profitable']:\n",
    "        df[column] = df[column].replace({'no': 0, 'yes': 1})\n",
    "    \n",
    "    # One-hot encoding\n",
    "    for column in ['sector', 'city', 'state']:\n",
    "        dummies = pd.get_dummies(df[column], prefix=column)\n",
    "        df = pd.concat([df, dummies], axis=1)\n",
    "        df = df.drop(column, axis=1)\n",
    "    \n",
    "    # Split df into X and y\n",
    "    y = df['Market Cap']\n",
    "    X = df.drop('Market Cap', axis=1)\n",
    "    \n",
    "    # Train-test split\n",
    "    X_train, X_test, y_train, y_test = train_test_split(X, y, train_size=0.8, shuffle=True, random_state=1)\n",
    "    \n",
    "    # Scale X\n",
    "    scaler = StandardScaler()\n",
    "    scaler.fit(X_train)\n",
    "    X_train = pd.DataFrame(scaler.transform(X_train), index=X_train.index, columns=X_train.columns)\n",
    "    X_test = pd.DataFrame(scaler.transform(X_test), index=X_test.index, columns=X_test.columns)\n",
    "    \n",
    "    return X_train, X_test, y_train, y_test"
   ]
  },
  {
   "cell_type": "code",
   "execution_count": 17,
   "metadata": {
    "execution": {
     "iopub.execute_input": "2022-07-14T09:06:42.527394Z",
     "iopub.status.busy": "2022-07-14T09:06:42.527009Z",
     "iopub.status.idle": "2022-07-14T09:06:42.583864Z",
     "shell.execute_reply": "2022-07-14T09:06:42.582900Z",
     "shell.execute_reply.started": "2022-07-14T09:06:42.527365Z"
    }
   },
   "outputs": [],
   "source": [
    "X_train, X_test, y_train, y_test = preprocess_inputs(data)"
   ]
  },
  {
   "cell_type": "code",
   "execution_count": 18,
   "metadata": {
    "execution": {
     "iopub.execute_input": "2022-07-14T09:06:45.124462Z",
     "iopub.status.busy": "2022-07-14T09:06:45.123755Z",
     "iopub.status.idle": "2022-07-14T09:06:45.155069Z",
     "shell.execute_reply": "2022-07-14T09:06:45.153984Z",
     "shell.execute_reply.started": "2022-07-14T09:06:45.124410Z"
    }
   },
   "outputs": [],
   "source": [
    "X_train"
   ]
  },
  {
   "cell_type": "code",
   "execution_count": 19,
   "metadata": {
    "execution": {
     "iopub.execute_input": "2022-07-14T09:06:46.742235Z",
     "iopub.status.busy": "2022-07-14T09:06:46.741625Z",
     "iopub.status.idle": "2022-07-14T09:06:46.749110Z",
     "shell.execute_reply": "2022-07-14T09:06:46.748132Z",
     "shell.execute_reply.started": "2022-07-14T09:06:46.742201Z"
    }
   },
   "outputs": [],
   "source": [
    "X_test.shape"
   ]
  },
  {
   "cell_type": "code",
   "execution_count": 20,
   "metadata": {
    "execution": {
     "iopub.execute_input": "2022-07-14T09:06:47.979349Z",
     "iopub.status.busy": "2022-07-14T09:06:47.978753Z",
     "iopub.status.idle": "2022-07-14T09:06:48.756769Z",
     "shell.execute_reply": "2022-07-14T09:06:48.755645Z",
     "shell.execute_reply.started": "2022-07-14T09:06:47.979304Z"
    }
   },
   "outputs": [],
   "source": [
    "X_train.describe()"
   ]
  },
  {
   "cell_type": "code",
   "execution_count": 21,
   "metadata": {
    "execution": {
     "iopub.execute_input": "2022-07-14T09:06:49.793142Z",
     "iopub.status.busy": "2022-07-14T09:06:49.792757Z",
     "iopub.status.idle": "2022-07-14T09:06:49.801867Z",
     "shell.execute_reply": "2022-07-14T09:06:49.800931Z",
     "shell.execute_reply.started": "2022-07-14T09:06:49.793111Z"
    }
   },
   "outputs": [],
   "source": [
    "y_train"
   ]
  },
  {
   "cell_type": "markdown",
   "metadata": {},
   "source": [
    "# Training"
   ]
  },
  {
   "cell_type": "code",
   "execution_count": 22,
   "metadata": {
    "execution": {
     "iopub.execute_input": "2022-07-14T09:06:52.413204Z",
     "iopub.status.busy": "2022-07-14T09:06:52.412584Z",
     "iopub.status.idle": "2022-07-14T09:06:58.031370Z",
     "shell.execute_reply": "2022-07-14T09:06:58.030485Z",
     "shell.execute_reply.started": "2022-07-14T09:06:52.413169Z"
    }
   },
   "outputs": [],
   "source": [
    "models = {\n",
    "    \"     Linear Regression\": LinearRegression(),\n",
    "    \"Linear Regression (L2)\": Ridge(),\n",
    "    \"Linear Regression (L1)\": Lasso(),\n",
    "    \"         Decision Tree\": DecisionTreeRegressor(),\n",
    "    \"        Neural Network\": MLPRegressor(),\n",
    "    \"         Random Forest\": RandomForestRegressor(),\n",
    "    \"     Gradient Boosting\": GradientBoostingRegressor()\n",
    "}\n",
    "\n",
    "for name, model in models.items():\n",
    "    model.fit(X_train, y_train)\n",
    "    print(name + \" trained.\")"
   ]
  },
  {
   "cell_type": "markdown",
   "metadata": {},
   "source": [
    "# Results"
   ]
  },
  {
   "cell_type": "code",
   "execution_count": 23,
   "metadata": {
    "execution": {
     "iopub.execute_input": "2022-07-14T09:07:03.374023Z",
     "iopub.status.busy": "2022-07-14T09:07:03.373394Z",
     "iopub.status.idle": "2022-07-14T09:07:03.474950Z",
     "shell.execute_reply": "2022-07-14T09:07:03.473640Z",
     "shell.execute_reply.started": "2022-07-14T09:07:03.373986Z"
    }
   },
   "outputs": [],
   "source": [
    "for name, model in models.items():\n",
    "    y_pred = model.predict(X_test)\n",
    "    rmse = np.sqrt(np.mean((y_test - y_pred)**2))\n",
    "    print(name + \" RMSE: {:.2f}\".format(rmse))"
   ]
  },
  {
   "cell_type": "code",
   "execution_count": 24,
   "metadata": {
    "execution": {
     "iopub.execute_input": "2022-07-14T09:07:32.856047Z",
     "iopub.status.busy": "2022-07-14T09:07:32.855670Z",
     "iopub.status.idle": "2022-07-14T09:07:32.952736Z",
     "shell.execute_reply": "2022-07-14T09:07:32.951479Z",
     "shell.execute_reply.started": "2022-07-14T09:07:32.856018Z"
    }
   },
   "outputs": [],
   "source": [
    "for name, model in models.items():\n",
    "    r2 = model.score(X_test, y_test)\n",
    "    print(name + \" R^2 Score: {:.5f}\".format(r2))"
   ]
  },
  {
   "cell_type": "code",
   "execution_count": 25,
   "metadata": {
    "execution": {
     "iopub.execute_input": "2022-07-14T09:08:04.046537Z",
     "iopub.status.busy": "2022-07-14T09:08:04.046156Z",
     "iopub.status.idle": "2022-07-14T09:08:04.246791Z",
     "shell.execute_reply": "2022-07-14T09:08:04.245856Z",
     "shell.execute_reply.started": "2022-07-14T09:08:04.046498Z"
    }
   },
   "outputs": [],
   "source": [
    "y_test.plot(kind='hist')"
   ]
  },
  {
   "cell_type": "code",
   "execution_count": 26,
   "metadata": {
    "execution": {
     "iopub.execute_input": "2022-07-14T09:08:27.787266Z",
     "iopub.status.busy": "2022-07-14T09:08:27.786892Z",
     "iopub.status.idle": "2022-07-14T09:08:27.797117Z",
     "shell.execute_reply": "2022-07-14T09:08:27.796193Z",
     "shell.execute_reply.started": "2022-07-14T09:08:27.787234Z"
    }
   },
   "outputs": [],
   "source": [
    "y_test.describe()"
   ]
  }
 ],
 "metadata": {
  "kernelspec": {
   "display_name": "Python 3 (ipykernel)",
   "language": "python",
   "name": "python3"
  },
  "language_info": {
   "codemirror_mode": {
    "name": "ipython",
    "version": 3
   },
   "file_extension": ".py",
   "mimetype": "text/x-python",
   "name": "python",
   "nbconvert_exporter": "python",
   "pygments_lexer": "ipython3",
   "version": "3.9.7"
  }
 },
 "nbformat": 4,
 "nbformat_minor": 4
}
